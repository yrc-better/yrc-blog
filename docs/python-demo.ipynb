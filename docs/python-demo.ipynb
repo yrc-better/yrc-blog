{
 "cells": [
  {
   "cell_type": "markdown",
   "id": "91b46446",
   "metadata": {},
   "source": [
    "# Python 示例\n",
    "下面的单元会在构建网站时自动执行："
   ]
  },
  {
   "cell_type": "code",
   "execution_count": null,
   "id": "d4b20c5e",
   "metadata": {},
   "outputs": [],
   "source": [
    "sum(i*i for i in range(1, 11))"
   ]
  },
  {
   "cell_type": "markdown",
   "id": "220836b1",
   "metadata": {},
   "source": [
    "再来一个带输出的循环："
   ]
  },
  {
   "cell_type": "code",
   "execution_count": null,
   "id": "7a4a3307",
   "metadata": {},
   "outputs": [],
   "source": [
    "for i in range(1,6):\n",
    "    print(i, i*i)"
   ]
  }
 ],
 "metadata": {},
 "nbformat": 4,
 "nbformat_minor": 5
}
