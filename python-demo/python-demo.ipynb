{
 "cells": [
  {
   "cell_type": "markdown",
   "id": "91b46446",
   "metadata": {},
   "source": [
    "# Python 示例\n",
    "下面的单元会在构建网站时自动执行："
   ]
  },
  {
   "cell_type": "code",
   "execution_count": null,
   "id": "d4b20c5e",
   "metadata": {},
   "outputs": [],
   "source": [
    "import matplotlib as mpl\n",
    "\n",
    "mpl.rcParams.update({\n",
    "    'font.family': 'sans-serif',\n",
    "    # 下面列出你系统里确实有的名字（按优先顺序）\n",
    "    'font.sans-serif': [\n",
    "        'Noto Sans CJK JP',      # 你机器上有\n",
    "        'Noto Sans CJK HK',      # 你机器上有\n",
    "        'WenQuanYi Zen Hei',     # 若安装了 wqy-zenhei 也可用\n",
    "        'DejaVu Sans'            # 兜底\n",
    "    ],\n",
    "    'axes.unicode_minus': False\n",
    "})\n",
    "\n",
    "sum(i*i for i in range(1, 11))"
   ]
  },
  {
   "cell_type": "markdown",
   "id": "220836b1",
   "metadata": {},
   "source": [
    "再来一个带输出的循环："
   ]
  },
  {
   "cell_type": "code",
   "execution_count": null,
   "id": "7a4a3307",
   "metadata": {},
   "outputs": [],
   "source": [
    "for i in range(1,6):\n",
    "    print(i, i*i)"
   ]
  }
 ],
 "metadata": {
  "kernelspec": {
   "display_name": ".venv",
   "language": "python",
   "name": "python3"
  },
  "language_info": {
   "name": "python",
   "version": "3.10.12"
  }
 },
 "nbformat": 4,
 "nbformat_minor": 5
}
