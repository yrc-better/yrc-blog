{
 "cells": [
  {
   "cell_type": "code",
   "execution_count": null,
   "id": "45478429",
   "metadata": {},
   "outputs": [],
   "source": [
    "import matplotlib as mpl\n",
    "mpl.rcParams['font.sans-serif'] = ['Noto Sans CJK SC']\n",
    "mpl.rcParams['axes.unicode_minus'] = False\n",
    "import matplotlib as mpl\n",
    "mpl.rcParams['font.family'] = 'sans-serif'\n",
    "mpl.rcParams['font.sans-serif'] = ['Noto Sans CJK SC', 'WenQuanYi Zen Hei', 'DejaVu Sans']\n",
    "mpl.rcParams['axes.unicode_minus'] = False\n"
   ]
  },
  {
   "cell_type": "markdown",
   "id": "d77f5624",
   "metadata": {},
   "source": [
    "# 实验 001 · 正弦曲线与统计直方图"
   ]
  },
  {
   "cell_type": "code",
   "execution_count": null,
   "id": "2e8bd2c8",
   "metadata": {},
   "outputs": [],
   "source": [
    "import numpy as np, matplotlib.pyplot as plt\n",
    "x = np.linspace(0, 2*np.pi, 400)\n",
    "y = np.sin(x)\n",
    "plt.plot(x, y)\n",
    "plt.title('sin(x)')\n",
    "plt.xlabel('x'); plt.ylabel('sin x')\n",
    "plt.show()"
   ]
  },
  {
   "cell_type": "code",
   "execution_count": null,
   "id": "19970efd",
   "metadata": {},
   "outputs": [],
   "source": [
    "import numpy as np, matplotlib.pyplot as plt\n",
    "data = np.random.normal(loc=0, scale=1, size=1000)\n",
    "plt.hist(data, bins=30)\n",
    "plt.title('N(0,1) 直方图')\n",
    "plt.show()"
   ]
  }
 ],
 "metadata": {
  "language_info": {
   "name": "python"
  }
 },
 "nbformat": 4,
 "nbformat_minor": 5
}
