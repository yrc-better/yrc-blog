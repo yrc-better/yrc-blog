{
 "cells": [
  {
   "cell_type": "code",
   "execution_count": null,
   "id": "45478429",
   "metadata": {},
   "outputs": [],
   "source": [
    "import matplotlib as mpl\n",
    "\n",
    "mpl.rcParams.update({\n",
    "    'font.family': 'sans-serif',\n",
    "    # 下面列出你系统里确实有的名字（按优先顺序）\n",
    "    'font.sans-serif': [\n",
    "        'Noto Sans CJK JP',      # 你机器上有\n",
    "        'Noto Sans CJK HK',      # 你机器上有\n",
    "        'WenQuanYi Zen Hei',     # 若安装了 wqy-zenhei 也可用\n",
    "        'DejaVu Sans'            # 兜底\n",
    "    ],\n",
    "    'axes.unicode_minus': False\n",
    "})\n",
    "\n"
   ]
  },
  {
   "cell_type": "markdown",
   "id": "d77f5624",
   "metadata": {},
   "source": [
    "# 实验 001 · 正弦曲线与统计直方图"
   ]
  },
  {
   "cell_type": "code",
   "execution_count": null,
   "id": "2e8bd2c8",
   "metadata": {},
   "outputs": [],
   "source": [
    "import numpy as np, matplotlib.pyplot as plt\n",
    "x = np.linspace(0, 2*np.pi, 400)\n",
    "y = np.sin(x)\n",
    "plt.plot(x, y)\n",
    "plt.title('sin(x)')\n",
    "plt.xlabel('x'); plt.ylabel('sin x')\n",
    "plt.show()"
   ]
  },
  {
   "cell_type": "code",
   "execution_count": null,
   "id": "19970efd",
   "metadata": {},
   "outputs": [],
   "source": [
    "import numpy as np, matplotlib.pyplot as plt\n",
    "data = np.random.normal(loc=0, scale=1, size=1000)\n",
    "plt.hist(data, bins=30)\n",
    "plt.title('N(0,1) 直方图')\n",
    "plt.show()"
   ]
  }
 ],
 "metadata": {
  "kernelspec": {
   "display_name": ".venv",
   "language": "python",
   "name": "python3"
  },
  "language_info": {
   "name": "python",
   "version": "3.10.12"
  }
 },
 "nbformat": 4,
 "nbformat_minor": 5
}
